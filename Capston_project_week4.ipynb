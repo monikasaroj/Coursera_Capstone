{
 "cells": [
  {
   "cell_type": "markdown",
   "metadata": {},
   "source": [
    "# Analyzing Neighborhoods in Lucknow, India for Opening a Shopping Mall"
   ]
  },
  {
   "cell_type": "markdown",
   "metadata": {},
   "source": [
    "## Introduction"
   ]
  },
  {
   "cell_type": "markdown",
   "metadata": {},
   "source": [
    "Lucknow is the capital city of the Indian state of Uttar Pradesh, and is one of the most densely populated cities in the world. It lies on the west coast of India and attracts heavy tourism from all over the globe every year. Bounded on the east by Barabanki, on the west by Unnao, on the south by Raebareli and in the north by Sitapur and Hardoi, Lucknow sits on the northwestern shore of the Gomti River and it attracts heavy tourism from all over the globe every year. Personally, I have been brought up in Lucknow and have loved the city from the bottom of my heart. It is extremely diverse with people from various ethnicities residing here. Major export items are marble products, handicrafts, art pieces, gems, jewellery, textiles, electronics, software products, computers, hardware products, apparel, brass products, silk, leather goods, glass items and chemicals. So starting a shopping in Lucknow with various such goods is a good investment for stakeholders. Thus, the aim of this project is to study the neighborhoods in Lucknow to determine possible locations for opening a shopping mall. This project can be useful for business owners and entrepreneurs who are looking to invest in a shopping mall in Lucknow. The main objective of this project is to carefully analyze appropriate data and find recommendations for the stakeholders."
   ]
  },
  {
   "cell_type": "markdown",
   "metadata": {},
   "source": [
    "## Data Collection"
   ]
  },
  {
   "cell_type": "markdown",
   "metadata": {},
   "source": [
    "The data required for this project has been collected from multiple sources. A summary of the data required for this project is given below.\n",
    "\n",
    "### Neighborhoods Data\n",
    "The data of the neighborhoods in Mumbai was scraped from https://en.wikipedia.org/wiki/Category:Neighbourhoods_in_Lucknow. The data is read into a pandas data frame using the read_html() method. The main reason for doing so is that the Wikipedia page provides a comprehensive and detailed table of the data which can easily be scraped using the read_html() method of pandas.\n",
    "\n",
    "### Geographical Coordinates\n",
    "The geographical coordinates for Lucknow data has been obtained from the GeoPy library in python. This data is relevant for plotting the map of Lucknow using the Folium library in python. The geocoder library in python has been used to obtain latitude and longitude data for various neighborhoods in Lucknow. The coordinates of all neighborhoods in Lucknow are used to check the accuracy of coordinates given on Wikipedia and replace them in our data frame if the absolute difference is more than 0.001. These coordinates are then further used for plotting using the Folium library in python.\n",
    "\n",
    "### Venue Data\n",
    "The venue data has been extracted using the Foursquare API. This data contains venue recommendations for all neighborhoods in Lucknow and is used to study the popular venues of different neighborhoods."
   ]
  },
  {
   "cell_type": "code",
   "execution_count": null,
   "metadata": {},
   "outputs": [],
   "source": []
  }
 ],
 "metadata": {
  "kernelspec": {
   "display_name": "Python 3",
   "language": "python",
   "name": "python3"
  },
  "language_info": {
   "codemirror_mode": {
    "name": "ipython",
    "version": 3
   },
   "file_extension": ".py",
   "mimetype": "text/x-python",
   "name": "python",
   "nbconvert_exporter": "python",
   "pygments_lexer": "ipython3",
   "version": "3.8.3"
  }
 },
 "nbformat": 4,
 "nbformat_minor": 4
}
